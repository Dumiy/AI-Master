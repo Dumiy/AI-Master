{
 "cells": [
  {
   "cell_type": "code",
   "execution_count": 285,
   "metadata": {
    "collapsed": true
   },
   "outputs": [],
   "source": [
    "import pymc as pm\n",
    "import numpy as np\n",
    "import os\n",
    "import seaborn as sns\n",
    "import matplotlib.pyplot as plt"
   ]
  },
  {
   "cell_type": "markdown",
   "metadata": {},
   "source": [
    "# Vocabulary for indexing word values"
   ]
  },
  {
   "cell_type": "code",
   "execution_count": 286,
   "metadata": {
    "collapsed": true
   },
   "outputs": [],
   "source": [
    "import string\n",
    "from nltk.corpus import stopwords\n",
    "from nltk.stem import WordNetLemmatizer\n",
    "\n",
    "class Vocabulary():\n",
    "    def __init__(self,base,files):\n",
    "        self.files = files\n",
    "        self.base = base\n",
    "        self.words = None\n",
    "        self.vocab_idx = {}\n",
    "        self.idx_vocab = {}\n",
    "    def read_files(self):\n",
    "        lemmatizer = WordNetLemmatizer()\n",
    "        documents_list = []\n",
    "        words = []\n",
    "        for x in self.files:\n",
    "            sentence_list = []\n",
    "            file = open(self.base+\"/\"+x,\"r\")\n",
    "            for y in file.readlines():\n",
    "                word_list = []\n",
    "                y = y.replace('\\n', \"\")\n",
    "                y = y.lower()\n",
    "                y = y.translate(str.maketrans('', '', string.punctuation))\n",
    "                y = y.split(' ')\n",
    "                for word in y:\n",
    "                    if word == '' or word in stopwords.words('english'):\n",
    "                        pass\n",
    "                    else:\n",
    "                        word = lemmatizer.lemmatize(word)\n",
    "                        sentence_list.append(word)\n",
    "                        if word not in words:\n",
    "                            words.append(word)\n",
    "            documents_list.append(sentence_list)\n",
    "        self.vocab_idx = {x:idx for idx,x in enumerate(words)}\n",
    "        self.idx_vocab = {idx:x for idx,x in enumerate(words)}\n",
    "        return documents_list\n",
    "    def word_to_idx(self,x):\n",
    "        temp = []\n",
    "        for word in x:\n",
    "            temp.append(self.vocab_idx[word])\n",
    "        return temp\n",
    "    def idx_to_word(self, x):\n",
    "        temp = []\n",
    "        for word in x:\n",
    "            temp.append(self.idx_vocab[word])\n",
    "        return temp\n",
    "    def __len__(self):\n",
    "        return len(self.vocab_idx)\n",
    "    def build_vocab(self,x):\n",
    "        word_list = []\n",
    "        for sent in x:\n",
    "            for word in sent:\n",
    "                if word not in word_list:\n",
    "                    word_list.append(word)\n",
    "        self.vocab_idx = {x: idx for idx, x in enumerate(word_list)}\n",
    "        self.idx_vocab = {idx: x for idx, x in enumerate(word_list)}"
   ]
  },
  {
   "cell_type": "code",
   "execution_count": 287,
   "metadata": {},
   "outputs": [],
   "source": [
    "vocab = Vocabulary(\"./text\",os.listdir(\"./text\"))\n",
    "documents = vocab.read_files()\n",
    "distr_list = []\n",
    "value_list = []\n",
    "for x in documents:\n",
    "    v = np.array(vocab.word_to_idx(x))\n",
    "    value_list.append(v)\n",
    "    distr = np.zeros(len(vocab))\n",
    "    for value in v:\n",
    "        distr[value]+=1\n",
    "    distr_list.append(distr) # word distibution"
   ]
  },
  {
   "cell_type": "code",
   "execution_count": 302,
   "metadata": {},
   "outputs": [
    {
     "data": {
      "text/plain": [
       "['suddenly', 'shadow', 'pass', 'across', 'bilbofor']"
      ]
     },
     "execution_count": 302,
     "metadata": {},
     "output_type": "execute_result"
    }
   ],
   "source": [
    "documents[1][:5] # Words for test"
   ]
  },
  {
   "cell_type": "code",
   "execution_count": 305,
   "metadata": {},
   "outputs": [
    {
     "data": {
      "text/plain": [
       "array([ 4.,  0.,  0.,  0.,  6.])"
      ]
     },
     "execution_count": 305,
     "metadata": {},
     "output_type": "execute_result"
    }
   ],
   "source": [
    "distr_list[1][:5] # Words distribution, in this proposition the word with the index 0 appers 4 times"
   ]
  },
  {
   "cell_type": "code",
   "execution_count": 306,
   "metadata": {},
   "outputs": [
    {
     "data": {
      "text/plain": [
       "array([ 85, 137, 138, 139, 140])"
      ]
     },
     "execution_count": 306,
     "metadata": {},
     "output_type": "execute_result"
    }
   ],
   "source": [
    "value_list[1][:5]# Words index encoding"
   ]
  },
  {
   "cell_type": "markdown",
   "metadata": {},
   "source": [
    "#### M -> Number of documents \n",
    "#### K -> Number of topics"
   ]
  },
  {
   "cell_type": "code",
   "execution_count": 289,
   "metadata": {
    "collapsed": true
   },
   "outputs": [],
   "source": [
    "M = len(documents)\n",
    "K = 2"
   ]
  },
  {
   "cell_type": "markdown",
   "metadata": {},
   "source": [
    "###### Using Dirichlet values to have a vector or probabilities to sum up to 1\n",
    "Theta is topic probability for documents  \n",
    "Phi is word probability to belong to topic"
   ]
  },
  {
   "cell_type": "code",
   "execution_count": 290,
   "metadata": {
    "collapsed": true
   },
   "outputs": [],
   "source": [
    "theta = pm.Container([pm.CompletedDirichlet(\"theta_%s\" % i, pm.Dirichlet(\"p-theta_%s\" % i, theta=np.ones(K))) for i in range(M)])\n",
    "phi = pm.Container([pm.CompletedDirichlet(\"phi_%s\" % i, pm.Dirichlet(\"p-phi_%s\" % i, theta=np.ones(len(vocab)))) for i in range(K)])"
   ]
  },
  {
   "cell_type": "code",
   "execution_count": 291,
   "metadata": {
    "collapsed": true
   },
   "outputs": [],
   "source": [
    "Wd = [doc.shape[0] for doc in value_list]\n",
    "distr_list = np.array(distr_list)\n",
    "value_list = np.array(value_list)"
   ]
  },
  {
   "cell_type": "markdown",
   "metadata": {},
   "source": [
    "We create the Z vector for word with index belonging to the topic  \n",
    "And a W to calculate for each document and each word its belonging"
   ]
  },
  {
   "cell_type": "code",
   "execution_count": 292,
   "metadata": {
    "collapsed": true
   },
   "outputs": [],
   "source": [
    "z = pm.Container([pm.Categorical('z_%i' % d,\n",
    "                     p = theta[d],\n",
    "                     size=Wd[d],\n",
    "                     value=np.random.randint(K, size=Wd[d]))\n",
    "                  for d in range(value_list.shape[0])])\n",
    "w = pm.Container([pm.Categorical(\"w_%i_%i\" % (d,i),\n",
    "                    p = pm.Lambda('phi_z_%i_%i' % (d,i),\n",
    "                              lambda z=z[d][i], phi=phi: phi[z]),\n",
    "                    value=value_list[d][i],observed=True)\n",
    "                  for d in range(value_list.shape[0]) for i in range(Wd[d])])"
   ]
  },
  {
   "cell_type": "code",
   "execution_count": 293,
   "metadata": {},
   "outputs": [],
   "source": [
    "import matplotlib.pyplot as plt"
   ]
  },
  {
   "cell_type": "markdown",
   "metadata": {},
   "source": [
    "# For the input example we have \n",
    "docs = [[\"aaa\", \"bbb\", \"aaa\"],\n",
    "[\"bbb\", \"aaa\", \"bbb\"],\n",
    "[\"aaa\", \"bbb\", \"bbb\", \"aaa\"],\n",
    "[\"uuu\", \"vvv\"],\n",
    "[\"uuu\", \"vvv\", \"vvv\"],\n",
    "[\"uuu\", \"vvv\", \"vvv\", \"uuu\"]]\n"
   ]
  },
  {
   "cell_type": "code",
   "execution_count": 50,
   "metadata": {
    "scrolled": false
   },
   "outputs": [
    {
     "name": "stdout",
     "output_type": "stream",
     "text": [
      " [-----------------100%-----------------] 10000 of 10000 complete in 14.3 sec\n",
      " Word probability distribution per topic\n",
      "0\n",
      "[ 0.38147937  0.35379281  0.11347622  0.1512516 ]\n"
     ]
    },
    {
     "data": {
      "image/png": "[encoded data removed]",
      "text/plain": [
       "<matplotlib.figure.Figure at 0x29534284048>"
      ]
     },
     "metadata": {},
     "output_type": "display_data"
    },
    {
     "name": "stdout",
     "output_type": "stream",
     "text": [
      "1\n",
      "[ 0.17685225  0.22217844  0.28856782  0.31240149]\n"
     ]
    },
    {
     "data": {
      "image/png": "[encoded data removed]",
      "text/plain": [
       "<matplotlib.figure.Figure at 0x29535ba3b70>"
      ]
     },
     "metadata": {},
     "output_type": "display_data"
    },
    {
     "name": "stdout",
     "output_type": "stream",
     "text": [
      "Document probability distribution per topic\n",
      "0\n",
      "[[ 0.56089802  0.43910198]]\n"
     ]
    },
    {
     "data": {
      "image/png": "[encoded data removed]",
      "text/plain": [
       "<matplotlib.figure.Figure at 0x295346f9b00>"
      ]
     },
     "metadata": {},
     "output_type": "display_data"
    },
    {
     "name": "stdout",
     "output_type": "stream",
     "text": [
      "1\n",
      "[[ 0.52384573  0.47615427]]\n"
     ]
    },
    {
     "data": {
      "image/png": "[encoded data removed]",
      "text/plain": [
       "<matplotlib.figure.Figure at 0x29534889b00>"
      ]
     },
     "metadata": {},
     "output_type": "display_data"
    },
    {
     "name": "stdout",
     "output_type": "stream",
     "text": [
      "2\n",
      "[[ 0.51363091  0.48636909]]\n"
     ]
    },
    {
     "data": {
      "image/png": "[encoded data removed]",
      "text/plain": [
       "<matplotlib.figure.Figure at 0x2952f1f56a0>"
      ]
     },
     "metadata": {},
     "output_type": "display_data"
    },
    {
     "name": "stdout",
     "output_type": "stream",
     "text": [
      "3\n",
      "[[ 0.35576988  0.64423012]]\n"
     ]
    },
    {
     "data": {
      "image/png": "[encoded data removed]",
      "text/plain": [
       "<matplotlib.figure.Figure at 0x29533a16550>"
      ]
     },
     "metadata": {},
     "output_type": "display_data"
    },
    {
     "name": "stdout",
     "output_type": "stream",
     "text": [
      "4\n",
      "[[ 0.30529637  0.69470363]]\n"
     ]
    },
    {
     "data": {
      "image/png": "[encoded data removed]",
      "text/plain": [
       "<matplotlib.figure.Figure at 0x29533dbbc88>"
      ]
     },
     "metadata": {},
     "output_type": "display_data"
    },
    {
     "name": "stdout",
     "output_type": "stream",
     "text": [
      "5\n",
      "[[ 0.23194418  0.76805582]]\n"
     ]
    },
    {
     "data": {
      "image/png": "[encoded data removed]",
      "text/plain": [
       "<matplotlib.figure.Figure at 0x2953480ebe0>"
      ]
     },
     "metadata": {},
     "output_type": "display_data"
    },
    {
     "name": "stdout",
     "output_type": "stream",
     "text": [
      "[0 0 0]\n",
      "[0 0 0]\n",
      "[0 0 0 0]\n",
      "[1 1]\n",
      "[1 1 1]\n",
      "[1 1 1 1]\n"
     ]
    }
   ],
   "source": [
    "model = pm.Model([theta, phi, z, w])\n",
    "mcmc = pm.MCMC(model)\n",
    "mcmc.sample(10000, 8000, 1)\n",
    "print(\"\\n Word probability distribution per topic\")\n",
    "for i in range(K):\n",
    "    print(i)\n",
    "    t =mcmc.trace(\"phi_\" + str(i))[:]\n",
    "    labels =  np.arange(0,len(t.mean(axis=0)[0]))\n",
    "    print(t.mean(axis=0)[0])\n",
    "    plt.bar(labels,t.mean(axis=0)[0])\n",
    "    plt.show()\n",
    "print(\"Document probability distribution per topic\")    \n",
    "for i in range(M):\n",
    "    print(i)\n",
    "    t =mcmc.trace(\"theta_\" + str(i))[:]\n",
    "    print(t.mean(axis=0))\n",
    "    labels =  np.arange(0,len(t.mean(axis=0)[0]))\n",
    "    plt.bar(labels,t.mean(axis=0)[0])\n",
    "    plt.show()\n",
    "for i in range(M):\n",
    "    values = z[i].value\n",
    "    print(values)\n",
    "    labels =  np.arange(0,len(values))"
   ]
  },
  {
   "cell_type": "markdown",
   "metadata": {},
   "source": [
    "##### We use hellringer distance to calculate document similarity for word probability  "
   ]
  },
  {
   "cell_type": "code",
   "execution_count": 60,
   "metadata": {},
   "outputs": [
    {
     "data": {
      "text/plain": [
       "0.71331093925881628"
      ]
     },
     "execution_count": 60,
     "metadata": {},
     "output_type": "execute_result"
    }
   ],
   "source": [
    "from gensim.matutils import hellinger\n",
    "hellinger(phi[0].value,phi[1].value)"
   ]
  },
  {
   "cell_type": "markdown",
   "metadata": {},
   "source": [
    "We are going to use 8 documents with film transcript from Lord of the Rings and Star Wars and see if we can have a good distribution for topics"
   ]
  },
  {
   "cell_type": "code",
   "execution_count": 295,
   "metadata": {
    "scrolled": false
   },
   "outputs": [
    {
     "name": "stdout",
     "output_type": "stream",
     "text": [
      " [-----------------100%-----------------] 1000 of 1000 complete in 10.5 sec\n",
      " Word probability distribution per topic\n",
      "0\n",
      "1\n",
      "Document probability distribution per topic\n",
      "0\n",
      "[[ 0.5549748  0.4450252]]\n"
     ]
    },
    {
     "data": {
      "image/png": "[encoded data removed]",
      "text/plain": [
       "<matplotlib.figure.Figure at 0x29564d72b00>"
      ]
     },
     "metadata": {},
     "output_type": "display_data"
    },
    {
     "name": "stdout",
     "output_type": "stream",
     "text": [
      "1\n",
      "[[ 0.45010319  0.54989681]]\n"
     ]
    },
    {
     "data": {
      "image/png": "[encoded data removed]",
      "text/plain": [
       "<matplotlib.figure.Figure at 0x2950ffaf1d0>"
      ]
     },
     "metadata": {},
     "output_type": "display_data"
    },
    {
     "name": "stdout",
     "output_type": "stream",
     "text": [
      "2\n",
      "[[ 0.43064624  0.56935376]]\n"
     ]
    },
    {
     "data": {
      "image/png": "[encoded data removed]",
      "text/plain": [
       "<matplotlib.figure.Figure at 0x295100414a8>"
      ]
     },
     "metadata": {},
     "output_type": "display_data"
    },
    {
     "name": "stdout",
     "output_type": "stream",
     "text": [
      "3\n",
      "[[ 0.43069251  0.56930749]]\n"
     ]
    },
    {
     "data": {
      "image/png": "[encoded data removed]",
      "text/plain": [
       "<matplotlib.figure.Figure at 0x295100d3048>"
      ]
     },
     "metadata": {},
     "output_type": "display_data"
    },
    {
     "name": "stdout",
     "output_type": "stream",
     "text": [
      "4\n",
      "[[ 0.5202699  0.4797301]]\n"
     ]
    },
    {
     "data": {
      "image/png": "[encoded data removed]",
      "text/plain": [
       "<matplotlib.figure.Figure at 0x295101635c0>"
      ]
     },
     "metadata": {},
     "output_type": "display_data"
    },
    {
     "name": "stdout",
     "output_type": "stream",
     "text": [
      "5\n",
      "[[ 0.51127241  0.48872759]]\n"
     ]
    },
    {
     "data": {
      "image/png": "[encoded data removed]",
      "text/plain": [
       "<matplotlib.figure.Figure at 0x295101ab3c8>"
      ]
     },
     "metadata": {},
     "output_type": "display_data"
    },
    {
     "name": "stdout",
     "output_type": "stream",
     "text": [
      "6\n",
      "[[ 0.55703688  0.44296312]]\n"
     ]
    },
    {
     "data": {
      "image/png": "[encoded data removed]",
      "text/plain": [
       "<matplotlib.figure.Figure at 0x29510294c88>"
      ]
     },
     "metadata": {},
     "output_type": "display_data"
    },
    {
     "name": "stdout",
     "output_type": "stream",
     "text": [
      "7\n",
      "[[ 0.45259277  0.54740723]]\n"
     ]
    },
    {
     "data": {
      "image/png": "[encoded data removed]",
      "text/plain": [
       "<matplotlib.figure.Figure at 0x2951032d400>"
      ]
     },
     "metadata": {},
     "output_type": "display_data"
    },
    {
     "name": "stdout",
     "output_type": "stream",
     "text": [
      "[0 0 1 0 1 0 1 1 1 1 1 1 1 0 1 0 1 0 0 1 0 0 0 0 0 1 0 1 1 1 0 0 1 1 0 0 0\n",
      " 0 0 0 0 1 0 0 1 0 0 1 1 0 0 1 0 0 0 1 1 1 1 0 0 1 1 0 0 0 1 0 0 1 0 0 0 0\n",
      " 1 0 0 0 1 0 0 0 1 0 1 1 1 0 0 0 1 1 1 0 0 1 1 0 0 0 1 1 1 0 0 1 1 0 0 1 0\n",
      " 1 1 1 1 1 1 1 0 0 1 0 1 0 0 0 1 1 1 0 1 1 1 0 0 0 0 0 1 0 0 1 0 0 1 0 1 0\n",
      " 0 0 1 1 0 1 0 0 1 1 0 1 1 0 1 1 0 0 0 0 0 0 0 0 1 0 1 0 1 0 1 0 0 1 0 1 1\n",
      " 0 1 0 0 0 1 0 0 1 0 1 1 0]\n",
      "[1 0 1 0 0 0 1 0 1 1 0 1 0 0 1 0 1 1 0 1 0 0 1 0 0 1 1 1 0 0 1 0 0 1 1 1 1\n",
      " 1 0 0 1 0 1 1 1 0 1 0 1 1 1 0 0 1 0 1 0 0 1 0 0 0 1 0 1 1 1 0 1 0 1 0 0 1\n",
      " 1 0 0 0 1 0 1 0 1 1 1 1 1 0 1 1 1 0 0 1 1 0 0 0 0 1 0 1 0 1 0 1 0 1 0 1 1\n",
      " 0 1 1 0 0 0 1 0 0 1 0 1 0 1 1 0 1 1 0 0 1 1 1 1 1 1 1 0 0 0 1 1 1 1 1 0 0\n",
      " 0 1 1 1 1 0 0 1 0 0 0 1 1 1 0 1 1 1 0 0 1 1 0 1 0 1 0 1 1 0 0 0 1 0 0 1 0\n",
      " 1 0 0 1 1 1 1 0 1 1 1 1 1 1 1 1 1 1 0 0 0 1 0 1 1 1 1 1 0 1 0 0 0 1 1 0 0\n",
      " 1 0 0 1 1 1 0 0]\n",
      "[1 0 0 1 0 1 1 1 1 1 0 1 0 1 0 1 1 0 1 1 0 0 1 1 0 0 0 1 0 1 0 0 0 1 1 1 1\n",
      " 0 1 1 0 0 0 1 1 1 1 1 1 1 1 0 1 1 1 0 1 1 0 1 1 1 1 1 0 0 1 1 0 1 1 1 1 0\n",
      " 0 0 1 0 1 0 0 0 1 1 0 0 1 1 0 0 0 1 1 0 0 0 0 1 0 0 0 0 1 0 0 0 1 0 0 0 0\n",
      " 1 0 0 1 0 1 0 1 1 1 1 1 0 1 0 1 1 1 0 1 0 0 1 1 0 1 1 1 0 0 1 1 1 1 1 0 0\n",
      " 1 1 1 0 0 1 1 1 0 0 1 1 0 1 1 1 1 0 1 1 0 1 1 0 0 0 0 0 1 1 1 0 0 1 0 0 0\n",
      " 0 1 0 1 0 0 0 1 1 1 1 1 0 1 1 1 1 1 1 0 1 1 1 0 1 1 1 1 1 0 0 0 1 0 1 1 1\n",
      " 0 0 1 0 1 0 0 0 0 0 1 1 1 1 1 0 1 0 1 1 1 1 1 0 0 1 1 1 0 1 1 1 1 0 0 1 0\n",
      " 1 0 1 1 0 1 1 0 0 1 0 1 1 1 1 0 1 1 1 1 0 0]\n",
      "[1 1 1 1 0 1 0 1 0 0 1 0 0 0 1 1 0 0 1 0 1 0 0 1 0 1 1 0 1 0 1 0 1 1 1 1 1\n",
      " 1 0 0 0 0 1 0 1 0 1 1 0 0 1 1 1 0 0 0 1 0 0 1 1 1 1 0 0 1 1 1 0 0 1 0 0 1\n",
      " 1 1 0 1 0 0 1 1 1 0 1 1 1 0 1 1 1 1 0 0 1 1 1 1 1 0 1 0 0 0 0 0 0 1 0 0 1\n",
      " 1 0 0 1 0 1 1 1 1 1 1 0 0 1 1 0 0 0 0 1 1 1 1 1 1 1 1 1 1 1 0 1 1 1 1 0 1\n",
      " 0 1 0 1 0 1 1 1 0 1 0 1 1 0 1 1 0 1 0 1 0 1 0 1 0 0 1 0 0 1 0 1 0 1 1 1 0\n",
      " 0 1 1 1 1 1 1 1 0 1 1 0 1 0 1 1 1 0 1 0 1 0 1 0 0 0 1 1 1 1 1 0 1 1 0 1 1\n",
      " 0 1 0 1 0 1 1 1 0 0 1 1 0 0 1 0 1 0 0 0 0 1 1 0 0 0 0 0 0 0 0 1 1 0 1 0 1\n",
      " 1 1 0 1 0 1 1 1 0 1 0 1 0 0 1 0 1 1 1 0 1 1 1 1 0 1 0 1 1 1 0 1 0 0 0 0 1\n",
      " 0 1 1 1 1 0 1 1 1 0 0 0 1 1 1 1 1 1 0 0 0 1 0 0 1 0 1 1 1 1 0 1 1 1 0 1 0]\n",
      "[0 1 0 1 1 0 0 1 1 0 1 1 1 0 1 1 1 1 1 0 1 0 0 1 1 0 0 1 1 0 1 0 0 1 0 0 1\n",
      " 1 1 1 1 0 0 0 0 1 1 0 0 1 1 0 1 0 0 0 1 0 0 0 1 0 0 1 0 0 1 0 1 0 0 1 0 1\n",
      " 0 0 1 1 1 0 1 0 1 0 1 1 0 1 0 0 1 1 0 0 1 1 0 1 0 1 0 1 0 0 1 0 1 0 1 0 0\n",
      " 0 1 1 0 1 0 0 0 1 0 1 1 0 1 1 0 1 0 1 0 0 1 1 0 0 0 1 1 0 1 0 0 1 0 0 0 0\n",
      " 1 1 1 0 1 0 0 0 1 1 1 1 0 1 1 1 0 1 0 1 1 0 0 1 1 0 0 0 0 0 0 1 0 0 1 0 1\n",
      " 1 0 0 1 1 1 0 0 0 0 0 0 0 0 0 1 0 0 0 0 0 1 0 0 1 1 0 1 1 1 1 0 0 0 0 1 1\n",
      " 0 1 0 0 0 1 0 1 1 0 0 1 1 1 0 1 0 0 1 0 1 0 1 0 1 0 0 0 1 1 1 0 0 1 1 1 1\n",
      " 1 1 0 0 1 1 1 0 1 1 1 1 1 1 0 1 1 0 0 0 1 0 0 0 1 0 0 0 0 0 1 0 1 1 0 0 0\n",
      " 1 0 1 0 1 0 0 1 0 0 1 0 0 0 0 1]\n",
      "[1 1 1 1 0 1 1 1 1 1 1 1 1 1 1 1 0 0 1 0 1 0 1 1 0 1 1 0 0 0 1 0 0 0 0 0 1\n",
      " 0 1 0 1 0 1 1 1 0 0 1 1 0 0 0 1 0 1 0 0 0 0 0 0 0 0 1 0 1 1 0 0 1 0 0 1 1\n",
      " 0 0 0 0 1 1 0 0 1 0 1 0 0 0 1 0 0 1 0 0 0 0 0 0 0 0 1 1 0 0 1 0 1 1 0 1 1\n",
      " 1 0 1 1 1 1 1 0 0 1 0 1 1 0 0 1 0 1 1 1 1 0 1 0 0 0 0 0 0 0 1 1 0 0 1 0 1\n",
      " 0 0 0 0 1 1 1 0 1 1 0 1 0 1 0 0 1 1 1 0 1 1 1 0 1 1]\n",
      "[0 0 0 0 1 1 0 1 1 0 0 1 0 0 0 0 1 1 1 0 0 1 1 1 0 0 1 0 1 1 1 0 0 0 1 0 1\n",
      " 0 0 0 0 1 1 1 1 1 0 0 0 1 0 1 0 1 1 0 1 1 0 0 0 1 0 0 0 0 0 1 0 0 1 0 0 0\n",
      " 0 0 1 0 1 1 0 1 0 0 1 1 1 1 0 1 1 1 1 0 0 1 1 1 0 1 0 1 0 0 1 1 1 1 1 0 0\n",
      " 1 1 0 0 1 0 0 0 0 0 0 0 1 0 0 0 0 1 0 0 1 1 0 0 0 1 0 1 0 0 0 0 0 1 0 1 0\n",
      " 1 0 1 1 1 0 1 0 1 0 1 0 0 1 1 1 1 0 1 0 0 0 0 0 1 1 0 1 1 0 0 0 0 1 0 1 1\n",
      " 0 1 0 1 0 1 0 1 0 0 0 1 0 0 1 0 0 0]\n",
      "[0 1 0 0 1 0 0 0 0 1 0 0 0 1 1 1 1 0 0 1 0 0 0 1 1 1 1 0 0 1 1 0 0 0 0 1 0\n",
      " 0 0 0 0 1 1 1 0 0 0 1 0 0 1 1 0 1 1 0 0 0 0 0 1 1 1 0 1 0 1 0 1 0 1 0 1 0\n",
      " 0 1 1 1 0 0 1 1 1 0 1 1 1 1 0 1 0 0 0 0 1 1 0 0 0 1 0 1 0 1 0 1 0 0 0 0 1\n",
      " 1 1 1 0 1 1 1 0 1 1 0 1 0 1 1 1 1 1 1 0 1 0 0 1 1 1 0 0 1 1 0 0 0 1 1 0 1\n",
      " 1 0 1 1 1 1 1 0 1 0 1 0 1 1 0 0 1 0 0 1 0 1 0 0 1 1 1 0 0 0 1 0 1 1 0 0 1\n",
      " 1 1 1 0 0 1 0 1 1 0 1 1 1 0 1 1 0 1 1 1 1 1 1 0 0 1 0 1 1 0 0 1 0 1 0 1 1\n",
      " 1 1 0 1 0 1 1 0 0 0 1 1 1 0 1 1 0 1 1 1 1 1 0 1 1 1 1 1 0 1 1 0 1 1 0 0 0\n",
      " 1 1 0 0 1 1 0 1 0 1 1 1 1 0 1 0 1 1 0 0 1 0 0 1 1 1 0 0 1 1 0 1 0 1 1 0 0\n",
      " 0 1 1 1 1 0 1 0 0 1 0 1 1 1 0 1 1 0 0 0 0 0 0 1 1 0 1 1 0 0 1 1 0 0 1 1 1\n",
      " 1 0 0 1 0 0 0 1 1 0 0 1 0 1 1 1 0 0 0 1 1 0 0 0 0 0 1 0 1 0 0 0 0 1 0 0 0\n",
      " 0 1 0 0 1 1 0 1 1 1 0 1 1 1 0 1 0 1 1 0 0 1 0 1 1 0 1 0 1 0 1 0 1 1 0 0 1\n",
      " 1 1 1 1 1 1 1 1 0 1 1 1 1 1 0 1 1 0 1 0 1 1 0 0 0 1 0 0 0 0 1]\n"
     ]
    }
   ],
   "source": [
    "model = pm.Model([theta, phi, z, w])\n",
    "mcmc = pm.MCMC(model)\n",
    "mcmc.sample(1000, 100, 1)\n",
    "print(\"\\n Word probability distribution per topic\")\n",
    "for i in range(K):\n",
    "    print(i)\n",
    "    t =mcmc.trace(\"phi_\" + str(i))[:]\n",
    "    #labels =  np.arange(0,len(t.mean(axis=0)[0]))\n",
    "    #print(t.mean(axis=0)[0])\n",
    "    #plt.bar(labels,t.mean(axis=0)[0])\n",
    "    #plt.show()\n",
    "print(\"Document probability distribution per topic\")    \n",
    "for i in range(M):\n",
    "    print(i)\n",
    "    t =mcmc.trace(\"theta_\" + str(i))[:]\n",
    "    print(t.mean(axis=0))\n",
    "    labels =  np.arange(0,len(t.mean(axis=0)[0]))\n",
    "    plt.bar(labels,t.mean(axis=0)[0])\n",
    "    plt.show()\n",
    "for i in range(M):\n",
    "    values = z[i].value\n",
    "    print(values)\n",
    "    labels =  np.arange(0,len(values))"
   ]
  },
  {
   "cell_type": "code",
   "execution_count": 296,
   "metadata": {},
   "outputs": [
    {
     "data": {
      "text/plain": [
       "0.47208149773613106"
      ]
     },
     "execution_count": 296,
     "metadata": {},
     "output_type": "execute_result"
    }
   ],
   "source": [
    "from gensim.matutils import hellinger\n",
    "hellinger(phi[0].value,phi[1].value)"
   ]
  },
  {
   "cell_type": "code",
   "execution_count": 297,
   "metadata": {},
   "outputs": [],
   "source": [
    "topic_index = []\n",
    "for i in range(K):\n",
    "    topic_index.append([])\n",
    "for i in range(M):\n",
    "    values = z[i].value\n",
    "    for j in range(K):\n",
    "        topics = []\n",
    "        val = j == values\n",
    "        val = value_list[i][val]\n",
    "        for l in val:\n",
    "            topic_index[j].append(int(l))"
   ]
  },
  {
   "cell_type": "code",
   "execution_count": 298,
   "metadata": {
    "collapsed": true
   },
   "outputs": [],
   "source": [
    "from collections import Counter\n",
    "import collections"
   ]
  },
  {
   "cell_type": "code",
   "execution_count": 299,
   "metadata": {},
   "outputs": [],
   "source": [
    "for i in range(K):\n",
    "    #print(sorted(topic_index[i]))\n",
    "    topic_index[i] = Counter(topic_index[i]).most_common(25)"
   ]
  },
  {
   "cell_type": "markdown",
   "metadata": {},
   "source": [
    "Here we have 25 the most common word per topic"
   ]
  },
  {
   "cell_type": "code",
   "execution_count": 307,
   "metadata": {},
   "outputs": [
    {
     "name": "stdout",
     "output_type": "stream",
     "text": [
      "['int', 'gandalf', 'luke', 'red', 'star', 'death', 'ext', 'cockpit', 'frodo', 'around', 'fighter', 'leader', 'boromir', 'continued', 'rebel', 'gimli', 'voice', 'fellowship', 'make', 'main', 'threepio', 'xwing', 'u', 'turn', 'look']\n",
      "['luke', 'int', 'death', 'leader', 'boromir', 'star', 'red', 'cockpit', 'look', 'fellowship', 'legolas', 'aragorn', 'ext', 'xwing', 'gimli', 'frodo', 'close', 'back', 'rebel', 'leia', 'fighter', 'long', 'gandalf', 'eye', 'must']\n"
     ]
    }
   ],
   "source": [
    "for i in range(K):\n",
    "    temp = []\n",
    "    for y in topic_index[i]:\n",
    "        temp.append(y[0])\n",
    "    print(vocab.idx_to_word(temp))"
   ]
  },
  {
   "cell_type": "markdown",
   "metadata": {},
   "source": [
    "Some words appear in both, but we can see that they contain also unique words specific for the topics"
   ]
  },
  {
   "cell_type": "markdown",
   "metadata": {},
   "source": [
    "In conclusion for Task 2\n",
    "We can use topic modeling for text similarity by using Hellringer distance for the word probability per topic  \n",
    "Also for new documents that we have we can use Gibs Sampling by adding the new words to the corpus and correlate to the most similar values, keeping the old documents topic the same.  \n",
    "Gibs sampling is a MCMC model and is going to be applied only to the new words giving values by correlating to the previous results of the MCMC model and keep the previous data the same."
   ]
  },
  {
   "cell_type": "code",
   "execution_count": null,
   "metadata": {
    "collapsed": true
   },
   "outputs": [],
   "source": []
  }
 ],
 "metadata": {
  "kernelspec": {
   "display_name": "Python 3",
   "language": "python",
   "name": "python3"
  },
  "language_info": {
   "codemirror_mode": {
    "name": "ipython",
    "version": 3
   },
   "file_extension": ".py",
   "mimetype": "text/x-python",
   "name": "python",
   "nbconvert_exporter": "python",
   "pygments_lexer": "ipython3",
   "version": "3.6.1"
  }
 },
 "nbformat": 4,
 "nbformat_minor": 2
}
